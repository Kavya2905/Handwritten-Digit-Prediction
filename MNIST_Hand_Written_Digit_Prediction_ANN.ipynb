{
  "nbformat": 4,
  "nbformat_minor": 0,
  "metadata": {
    "colab": {
      "name": "MNIST Hand Written Digit Prediction - ANN.ipynb",
      "provenance": [],
      "collapsed_sections": [],
      "authorship_tag": "ABX9TyM1AXGgUUrlYyznNWbGlB2X",
      "include_colab_link": true
    },
    "kernelspec": {
      "name": "python3",
      "display_name": "Python 3"
    }
  },
  "cells": [
    {
      "cell_type": "markdown",
      "metadata": {
        "id": "view-in-github",
        "colab_type": "text"
      },
      "source": [
        "<a href=\"https://colab.research.google.com/github/Kavya2905/Handwritten-Digit-Prediction/blob/main/MNIST_Hand_Written_Digit_Prediction_ANN.ipynb\" target=\"_parent\"><img src=\"https://colab.research.google.com/assets/colab-badge.svg\" alt=\"Open In Colab\"/></a>"
      ]
    },
    {
      "cell_type": "code",
      "metadata": {
        "id": "eVRUAyi-Txfw"
      },
      "source": [
        "### Importing libraries\n",
        "\n",
        "import tensorflow.keras as tf\n",
        "import matplotlib.pyplot as plt"
      ],
      "execution_count": null,
      "outputs": []
    },
    {
      "cell_type": "code",
      "metadata": {
        "id": "WWVI1ykkUjIL",
        "colab": {
          "base_uri": "https://localhost:8080/"
        },
        "outputId": "a94342ff-c6b6-4a05-ba7c-8092910ae94e"
      },
      "source": [
        "mnist = tf.datasets.mnist\n",
        "(xtrain, ytrain), (xtest, ytest) = mnist.load_data()"
      ],
      "execution_count": null,
      "outputs": [
        {
          "output_type": "stream",
          "text": [
            "Downloading data from https://storage.googleapis.com/tensorflow/tf-keras-datasets/mnist.npz\n",
            "11493376/11490434 [==============================] - 0s 0us/step\n"
          ],
          "name": "stdout"
        }
      ]
    },
    {
      "cell_type": "code",
      "metadata": {
        "id": "v-uGgS7gU6VT"
      },
      "source": [
        "xtrain[700]"
      ],
      "execution_count": null,
      "outputs": []
    },
    {
      "cell_type": "code",
      "metadata": {
        "colab": {
          "base_uri": "https://localhost:8080/",
          "height": 265
        },
        "id": "LKqT3m_aWW5r",
        "outputId": "8042a2e6-23e4-4d07-c581-d6c563e9e1a3"
      },
      "source": [
        "plt.imshow(xtrain[700], cmap='gray')\n",
        "plt.show()"
      ],
      "execution_count": null,
      "outputs": [
        {
          "output_type": "display_data",
          "data": {
            "image/png": "[encoded data removed]",
            "text/plain": [
              "<Figure size 432x288 with 1 Axes>"
            ]
          },
          "metadata": {
            "tags": [],
            "needs_background": "light"
          }
        }
      ]
    },
    {
      "cell_type": "code",
      "metadata": {
        "colab": {
          "base_uri": "https://localhost:8080/"
        },
        "id": "jCkrSZ3FWoKd",
        "outputId": "69368d94-bd7e-4cb4-b03a-3523f603991f"
      },
      "source": [
        "ytrain[700]"
      ],
      "execution_count": null,
      "outputs": [
        {
          "output_type": "execute_result",
          "data": {
            "text/plain": [
              "4"
            ]
          },
          "metadata": {
            "tags": []
          },
          "execution_count": 5
        }
      ]
    },
    {
      "cell_type": "code",
      "metadata": {
        "id": "OGnNNdAPWxEs"
      },
      "source": [
        "### Neural Network"
      ],
      "execution_count": null,
      "outputs": []
    },
    {
      "cell_type": "code",
      "metadata": {
        "id": "MgLZIgAVW1Mp"
      },
      "source": [
        "model = tf.models.Sequential()\n",
        "model.add(tf.layers.Flatten())\n",
        "model.add(tf.layers.Dense(784, activation=\"relu\"))\n",
        "model.add(tf.layers.Dense(10, activation=\"softmax\"))\n",
        "model.compile(loss='sparse_categorical_crossentropy', optimizer='adam',\n",
        "              metrics=['accuracy'])"
      ],
      "execution_count": null,
      "outputs": []
    },
    {
      "cell_type": "code",
      "metadata": {
        "id": "eMgmosfwbPIr"
      },
      "source": [
        "### Scale the data\n",
        "xtrain = xtrain/255.0\n",
        "xtest = xtest/255"
      ],
      "execution_count": null,
      "outputs": []
    },
    {
      "cell_type": "code",
      "metadata": {
        "colab": {
          "base_uri": "https://localhost:8080/"
        },
        "id": "u9fnHov9YKeB",
        "outputId": "dee20903-3e74-43d7-8799-f1f57fefaf6b"
      },
      "source": [
        "\n",
        "### Train the model\n",
        "model.fit(xtrain, ytrain,epochs=15)"
      ],
      "execution_count": null,
      "outputs": [
        {
          "output_type": "stream",
          "text": [
            "Epoch 1/15\n",
            "1875/1875 [==============================] - 9s 5ms/step - loss: 0.1894 - accuracy: 0.9437\n",
            "Epoch 2/15\n",
            "1875/1875 [==============================] - 9s 5ms/step - loss: 0.0757 - accuracy: 0.9762\n",
            "Epoch 3/15\n",
            "1875/1875 [==============================] - 9s 5ms/step - loss: 0.0499 - accuracy: 0.9835\n",
            "Epoch 4/15\n",
            "1875/1875 [==============================] - 9s 5ms/step - loss: 0.0339 - accuracy: 0.9890\n",
            "Epoch 5/15\n",
            "1875/1875 [==============================] - 9s 5ms/step - loss: 0.0266 - accuracy: 0.9913\n",
            "Epoch 6/15\n",
            "1875/1875 [==============================] - 9s 5ms/step - loss: 0.0206 - accuracy: 0.9930\n",
            "Epoch 7/15\n",
            "1875/1875 [==============================] - 9s 5ms/step - loss: 0.0177 - accuracy: 0.9943\n",
            "Epoch 8/15\n",
            "1875/1875 [==============================] - 9s 5ms/step - loss: 0.0131 - accuracy: 0.9955\n",
            "Epoch 9/15\n",
            "1875/1875 [==============================] - 9s 5ms/step - loss: 0.0128 - accuracy: 0.9958\n",
            "Epoch 10/15\n",
            "1875/1875 [==============================] - 9s 5ms/step - loss: 0.0133 - accuracy: 0.9953\n",
            "Epoch 11/15\n",
            "1875/1875 [==============================] - 9s 5ms/step - loss: 0.0088 - accuracy: 0.9971\n",
            "Epoch 12/15\n",
            "1875/1875 [==============================] - 9s 5ms/step - loss: 0.0101 - accuracy: 0.9965\n",
            "Epoch 13/15\n",
            "1875/1875 [==============================] - 9s 5ms/step - loss: 0.0078 - accuracy: 0.9976\n",
            "Epoch 14/15\n",
            "1875/1875 [==============================] - 9s 5ms/step - loss: 0.0086 - accuracy: 0.9973\n",
            "Epoch 15/15\n",
            "1875/1875 [==============================] - 9s 5ms/step - loss: 0.0075 - accuracy: 0.9974\n"
          ],
          "name": "stdout"
        },
        {
          "output_type": "execute_result",
          "data": {
            "text/plain": [
              "<tensorflow.python.keras.callbacks.History at 0x7f463b8f7fd0>"
            ]
          },
          "metadata": {
            "tags": []
          },
          "execution_count": 9
        }
      ]
    },
    {
      "cell_type": "code",
      "metadata": {
        "id": "zp3sNmGJaszV"
      },
      "source": [
        "ypred = model.predict(xtest)"
      ],
      "execution_count": null,
      "outputs": []
    },
    {
      "cell_type": "code",
      "metadata": {
        "colab": {
          "base_uri": "https://localhost:8080/"
        },
        "id": "zCcilAm0dJ6E",
        "outputId": "0f4ba27d-910a-4342-cbfc-5a322e02fc7b"
      },
      "source": [
        "ytest[520]"
      ],
      "execution_count": null,
      "outputs": [
        {
          "output_type": "execute_result",
          "data": {
            "text/plain": [
              "8"
            ]
          },
          "metadata": {
            "tags": []
          },
          "execution_count": 11
        }
      ]
    },
    {
      "cell_type": "code",
      "metadata": {
        "colab": {
          "base_uri": "https://localhost:8080/"
        },
        "id": "253q0ylTdRYy",
        "outputId": "2c9230af-9bca-4384-d0c0-080106a96b4e"
      },
      "source": [
        "ypred[520]"
      ],
      "execution_count": null,
      "outputs": [
        {
          "output_type": "execute_result",
          "data": {
            "text/plain": [
              "array([4.5357810e-15, 3.5580542e-13, 1.0258777e-12, 3.3119327e-09,\n",
              "       2.2693479e-11, 2.4915403e-11, 7.7878527e-14, 9.9039158e-16,\n",
              "       1.0000000e+00, 8.5452484e-13], dtype=float32)"
            ]
          },
          "metadata": {
            "tags": []
          },
          "execution_count": 12
        }
      ]
    },
    {
      "cell_type": "code",
      "metadata": {
        "colab": {
          "base_uri": "https://localhost:8080/"
        },
        "id": "iDa5_3KsdTeM",
        "outputId": "9bcec9e0-15d4-4ecb-9535-6ff927a0a2a6"
      },
      "source": [
        "ypred[520].argmax()"
      ],
      "execution_count": null,
      "outputs": [
        {
          "output_type": "execute_result",
          "data": {
            "text/plain": [
              "8"
            ]
          },
          "metadata": {
            "tags": []
          },
          "execution_count": 13
        }
      ]
    },
    {
      "cell_type": "code",
      "metadata": {
        "colab": {
          "base_uri": "https://localhost:8080/"
        },
        "id": "4Da9VaOgd8L-",
        "outputId": "bb2f609e-f435-48c1-dd04-ed84b8ff148f"
      },
      "source": [
        "model.evaluate(xtest, ytest)"
      ],
      "execution_count": null,
      "outputs": [
        {
          "output_type": "stream",
          "text": [
            "313/313 [==============================] - 1s 2ms/step - loss: 0.1401 - accuracy: 0.9748\n"
          ],
          "name": "stdout"
        },
        {
          "output_type": "execute_result",
          "data": {
            "text/plain": [
              "[0.14008890092372894, 0.9747999906539917]"
            ]
          },
          "metadata": {
            "tags": []
          },
          "execution_count": 14
        }
      ]
    },
    {
      "cell_type": "code",
      "metadata": {
        "id": "k6lX-iBdeTiy",
        "colab": {
          "base_uri": "https://localhost:8080/",
          "height": 265
        },
        "outputId": "7305a881-0eaf-44cd-b4ee-4285330d2898"
      },
      "source": [
        "### Digit recognition using an image as input \n",
        "\n",
        "import cv2\n",
        "img = cv2.imread(\"3.png\",0)\n",
        "img = cv2.bitwise_not(img)\n",
        "img = cv2.resize(img,(28,28))\n",
        "img = img/255\n",
        "plt.imshow(img,cmap='gray')\n",
        "plt.show()"
      ],
      "execution_count": null,
      "outputs": [
        {
          "output_type": "display_data",
          "data": {
            "image/png": "[encoded data removed]",
            "text/plain": [
              "<Figure size 432x288 with 1 Axes>"
            ]
          },
          "metadata": {
            "tags": [],
            "needs_background": "light"
          }
        }
      ]
    },
    {
      "cell_type": "code",
      "metadata": {
        "id": "ptKMJoUuhdx8",
        "colab": {
          "base_uri": "https://localhost:8080/"
        },
        "outputId": "e8a1f449-a270-4ecc-bf96-5b89da20e001"
      },
      "source": [
        "img.shape"
      ],
      "execution_count": null,
      "outputs": [
        {
          "output_type": "execute_result",
          "data": {
            "text/plain": [
              "(28, 28)"
            ]
          },
          "metadata": {
            "tags": []
          },
          "execution_count": 20
        }
      ]
    },
    {
      "cell_type": "code",
      "metadata": {
        "id": "wnx2W1u-hjIT",
        "colab": {
          "base_uri": "https://localhost:8080/"
        },
        "outputId": "f6ebb0f9-9a0c-412c-963c-3a55330da1d9"
      },
      "source": [
        "import numpy as np\n",
        "model.predict(np.array([[img]]))"
      ],
      "execution_count": null,
      "outputs": [
        {
          "output_type": "execute_result",
          "data": {
            "text/plain": [
              "array([[3.6424177e-24, 1.0599072e-16, 9.6101740e-13, 1.0000000e+00,\n",
              "        6.4937180e-21, 3.3450385e-14, 8.4678347e-18, 1.3198829e-21,\n",
              "        7.0659173e-10, 1.5579203e-15]], dtype=float32)"
            ]
          },
          "metadata": {
            "tags": []
          },
          "execution_count": 21
        }
      ]
    },
    {
      "cell_type": "code",
      "metadata": {
        "id": "ayJPKGGYhkeO",
        "colab": {
          "base_uri": "https://localhost:8080/"
        },
        "outputId": "7cc0897e-2fbe-47ce-abc0-5fa208670be3"
      },
      "source": [
        "model.predict(np.array([[img]])).argmax()"
      ],
      "execution_count": null,
      "outputs": [
        {
          "output_type": "execute_result",
          "data": {
            "text/plain": [
              "3"
            ]
          },
          "metadata": {
            "tags": []
          },
          "execution_count": 22
        }
      ]
    }
  ]
}